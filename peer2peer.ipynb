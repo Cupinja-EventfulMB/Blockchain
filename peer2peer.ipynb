{
 "cells": [
  {
   "cell_type": "code",
   "execution_count": 6,
   "metadata": {},
   "outputs": [],
   "source": [
    "import hashlib\n",
    "import time\n",
    "\n",
    "class Block:\n",
    "    def __init__(self, index, data, timestamp, previous_hash, difficulty, token=0):\n",
    "        self.index = index\n",
    "        self.data = data\n",
    "        self.timestamp = timestamp\n",
    "        self.previous_hash = previous_hash\n",
    "        self.difficulty = difficulty\n",
    "        self.token = token\n",
    "        self.hash = self.calculate_hash()\n",
    "\n",
    "    def calculate_hash(self):\n",
    "        return hashlib.sha256(\n",
    "            f\"{self.index}{self.data}{self.timestamp}{self.previous_hash}{self.difficulty}{self.token}\".encode()).hexdigest()\n",
    "\n",
    "    def mine_block(self):\n",
    "        print(f\"Starting mining new block at index {self.index}...\")\n",
    "        start_time = time.time()\n",
    "        while self.hash[:self.difficulty] != '0' * self.difficulty:\n",
    "            self.token += 1\n",
    "            self.hash = self.calculate_hash()\n",
    "\n",
    "        end_time = time.time()\n",
    "        print(f\"New block mined: {self.hash}\")\n",
    "        print(f\"Mining completed in {end_time - start_time} seconds.\")\n",
    "\n",
    "    def to_dict(self):\n",
    "        return {\n",
    "            'index': self.index,\n",
    "            'timestamp': self.timestamp,\n",
    "            'data': self.data,\n",
    "            'previous_hash': self.previous_hash,\n",
    "            'hash': self.hash,\n",
    "            'difficulty': self.difficulty,\n",
    "            'token': self.token\n",
    "        }    \n",
    "\n",
    "class Blockchain:\n",
    "    def __init__(self, creation_interval, adjustment_interval):\n",
    "        self.difficulty = 1\n",
    "        self.chain = [self.create_genesis_block()]\n",
    "        self.block_creation_interval = creation_interval\n",
    "        self.adjustment_interval = adjustment_interval\n",
    "\n",
    "    def create_genesis_block(self):\n",
    "        genesis_block = Block(0, 'Genesis Block', time.time(), '0', self.difficulty)\n",
    "        genesis_block.mine_block()\n",
    "        return genesis_block\n",
    "\n",
    "    def get_last_block(self):\n",
    "        return self.chain[-1]\n",
    "\n",
    "    def add_block(self, new_block):\n",
    "        if self.is_valid_new_block(new_block, self.get_last_block()):\n",
    "            self.chain.append(new_block)\n",
    "            self.difficulty = self.adjust_difficulty()\n",
    "\n",
    "    def is_valid_new_block(self, new_block, previous_block):\n",
    "        if previous_block.index + 1 != new_block.index:\n",
    "            return False\n",
    "        if new_block.calculate_hash() != new_block.hash:\n",
    "            return False\n",
    "        if not self.validate_timestamp(new_block):\n",
    "            return False\n",
    "        return True\n",
    "\n",
    "    def adjust_difficulty(self):\n",
    "        if len(self.chain) % self.adjustment_interval == 0:\n",
    "            return self.calculate_adjusted_difficulty()\n",
    "        return self.difficulty\n",
    "\n",
    "    def calculate_adjusted_difficulty(self):\n",
    "        last_adjustment_block = self.chain[-self.adjustment_interval]\n",
    "        expected_time = self.block_creation_interval * self.adjustment_interval\n",
    "        actual_time = self.get_last_block().timestamp - last_adjustment_block.timestamp\n",
    "        if actual_time < expected_time / 2:\n",
    "            return last_adjustment_block.difficulty + 1\n",
    "        elif actual_time > expected_time * 2:\n",
    "            return max(1, last_adjustment_block.difficulty - 1)\n",
    "        else:\n",
    "            return last_adjustment_block.difficulty\n",
    "            \n",
    "\n",
    "    def calculate_cumulative_difficulty(self):\n",
    "        return sum([2**block.difficulty for block in self.chain])\n",
    "\n",
    "    def validate_timestamp(self, new_block):\n",
    "        current_time = time.time()\n",
    "        if new_block.timestamp > current_time + 60:\n",
    "            return False\n",
    "        if len(self.chain) > 1 and new_block.timestamp < self.get_last_block().timestamp - 60:\n",
    "            return False\n",
    "        return True\n",
    "    \n",
    "\n",
    "    "
   ]
  },
  {
   "cell_type": "code",
   "execution_count": 7,
   "metadata": {},
   "outputs": [],
   "source": [
    "import socket\n",
    "import threading\n",
    "import json\n",
    "\n",
    "class MessageType:\n",
    "    NEW_BLOCK = 'new_block'\n",
    "    REQUEST_CHAIN = 'request_chain'\n",
    "    RESPONSE_CHAIN = 'response_chain'\n",
    "    UPDATE_DIFFICULTY = 'update_difficulty'\n",
    "\n",
    "class P2PNode:\n",
    "    def __init__(self, host, port):\n",
    "        self.host = host\n",
    "        self.active = True\n",
    "        self.mining_active = False\n",
    "        self.port = port\n",
    "        self.blockchain = Blockchain(10, 10)  \n",
    "        self.peers = []\n",
    "        self.server = socket.socket(socket.AF_INET, socket.SOCK_STREAM)\n",
    "        self.server.setsockopt(socket.SOL_SOCKET, socket.SO_REUSEADDR, 1)\n",
    "        self.server.bind((self.host, self.port))\n",
    "        self.server.listen(10)\n",
    "\n",
    "    def start_server(self):\n",
    "        threading.Thread(target=self.listen_for_incoming_connections, daemon=True).start()\n",
    "\n",
    "    def listen_for_incoming_connections(self):\n",
    "        while self.active:  \n",
    "            try:\n",
    "                client, address = self.server.accept()\n",
    "                threading.Thread(target=self.handle_client, args=(client,)).start()\n",
    "            except socket.timeout:  \n",
    "                continue\n",
    "            except Exception as e:\n",
    "                print(f\"Error accepting new connection: {e}\")\n",
    "\n",
    "\n",
    "    def mine_single_block(self, data):\n",
    "        print(\"Mining a new block...\")\n",
    "        last_block = self.blockchain.get_last_block()\n",
    "        new_index = last_block.index + 1\n",
    "        new_timestamp = time.time()\n",
    "        new_block = Block(\n",
    "            index=new_index,\n",
    "            data=data,\n",
    "            timestamp=new_timestamp,\n",
    "            previous_hash=last_block.hash,\n",
    "            difficulty=self.blockchain.difficulty\n",
    "        )\n",
    "        new_block.mine_block()\n",
    "        self.blockchain.add_block(new_block)\n",
    "        print(f\"Block {new_index} has been mined and added to the blockchain.\")\n",
    "        \n",
    "        block_data = new_block.to_dict()\n",
    "        self.broadcast(json.dumps({'type': MessageType.NEW_BLOCK, 'data': block_data}))\n",
    "        self.broadcast_difficulty_update()            \n",
    "\n",
    "    def handle_client(self, client):\n",
    "        while True:\n",
    "            try:\n",
    "                message = client.recv(1024).decode()\n",
    "                if message:\n",
    "                    self.process_message(client, message)\n",
    "            except Exception as e:\n",
    "                print(f\"Error handling client: {e}\")\n",
    "                client.close()\n",
    "                break\n",
    "\n",
    "    def process_message(self, client, message):\n",
    "        message_data = json.loads(message)\n",
    "        message_type = message_data['type']\n",
    "\n",
    "        if message_type == MessageType.NEW_BLOCK:\n",
    "            new_block_data = message_data['data']\n",
    "            new_block = Block(\n",
    "                new_block_data['index'],\n",
    "                new_block_data['data'],\n",
    "                new_block_data['timestamp'],\n",
    "                new_block_data['previous_hash'],\n",
    "                new_block_data['difficulty'],\n",
    "                new_block_data['token']\n",
    "            )\n",
    "\n",
    "            if new_block.difficulty == self.blockchain.difficulty:\n",
    "                if self.blockchain.is_valid_new_block(new_block, self.blockchain.get_last_block()):\n",
    "                    self.blockchain.add_block(new_block)\n",
    "                    print(f\"New block added to the blockchain: {new_block.index}\")\n",
    "                else:\n",
    "                    print(\"Received invalid block.\")\n",
    "            else:\n",
    "                print(\"Received block with mismatched difficulty. Requesting current chain.\")\n",
    "                self.request_chain_from_peers()\n",
    "\n",
    "        elif message_type == MessageType.REQUEST_CHAIN:\n",
    "            chain_data = [block.to_dict() for block in self.blockchain.chain]\n",
    "            response = json.dumps({'type': MessageType.RESPONSE_CHAIN, 'data': chain_data})\n",
    "            client.send(response.encode())\n",
    "\n",
    "        elif message_type == MessageType.RESPONSE_CHAIN:\n",
    "            received_chain_data = message_data['data']\n",
    "            received_chain = []\n",
    "            for block_data in received_chain_data:\n",
    "                new_block = Block(\n",
    "                    index=block_data['index'],\n",
    "                    data=block_data['data'],\n",
    "                    timestamp=block_data['timestamp'],\n",
    "                    previous_hash=block_data['previous_hash'],\n",
    "                    difficulty=block_data['difficulty'],\n",
    "                    token=block_data['token']\n",
    "                )\n",
    "                new_block.hash = block_data['hash']\n",
    "                received_chain.append(new_block)\n",
    "\n",
    "            if self.validate_and_replace_chain(received_chain):\n",
    "                print(\"Blockchain updated from peer\")\n",
    "            else:\n",
    "                print(\"Received blockchain is invalid\")\n",
    "\n",
    "        elif message_type == MessageType.UPDATE_DIFFICULTY:\n",
    "            self.blockchain.difficulty = message_data['difficulty']\n",
    "            print(f\"Difficulty updated to {self.blockchain.difficulty}\")        \n",
    "\n",
    "    def broadcast_difficulty_update(self):\n",
    "        message = json.dumps({'type': MessageType.UPDATE_DIFFICULTY, 'difficulty': self.blockchain.difficulty})\n",
    "        self.broadcast(message)\n",
    "\n",
    "    def is_connection_alive(self, client):\n",
    "        try:\n",
    "            client.send(b'')\n",
    "            return True\n",
    "        except socket.error:\n",
    "            return False\n",
    "\n",
    "    def display_connected_peers(self):\n",
    "        connected_peers = []\n",
    "        for peer in self.peers[:]:  \n",
    "            if self.is_connection_alive(peer):\n",
    "                peer_address = peer.getpeername() \n",
    "                connected_peers.append(f\"{peer_address[0]}:{peer_address[1]}\")\n",
    "            else:\n",
    "                self.peers.remove(peer)\n",
    "        return connected_peers\n",
    "  \n",
    "\n",
    "    def mine_new_block(self, data):\n",
    "        if not self.mining_active:\n",
    "            return\n",
    "        last_block = self.blockchain.get_last_block()\n",
    "        new_index = last_block.index + 1\n",
    "        new_timestamp = time.time()\n",
    "        new_block = Block(\n",
    "            index=new_index,\n",
    "            data=data,\n",
    "            timestamp=new_timestamp,\n",
    "            previous_hash=last_block.hash,\n",
    "            difficulty=self.blockchain.difficulty\n",
    "        )\n",
    "        new_block.mine_block()\n",
    "        self.blockchain.add_block(new_block)\n",
    "        print(f\"Block {new_index} has been mined and added to the blockchain.\")\n",
    "\n",
    "        block_data = new_block.__dict__\n",
    "        self.broadcast(json.dumps({'type': MessageType.NEW_BLOCK, 'data': block_data}))\n",
    "        self.broadcast_difficulty_update()\n",
    "\n",
    "\n",
    "    def validate_and_replace_chain(self, new_chain):\n",
    "        if len(new_chain) <= len(self.blockchain.chain):\n",
    "            print(\"Received blockchain is not longer than the current blockchain.\")\n",
    "            return False\n",
    "\n",
    "        if self.is_valid_chain(new_chain) and all(block.difficulty == self.blockchain.difficulty for block in new_chain):\n",
    "            self.blockchain.chain = new_chain\n",
    "            self.blockchain.difficulty = new_chain[-1].difficulty\n",
    "            self.broadcast_difficulty_update()\n",
    "            print(\"Blockchain replaced with a better chain.\")\n",
    "            return True\n",
    "        else:\n",
    "            print(\"Received blockchain is invalid or has mismatched difficulties.\")\n",
    "            return False\n",
    "    \n",
    "    def display_blockchain(self):\n",
    "        print(\"Current Blockchain:\")\n",
    "        for block in self.blockchain.chain:\n",
    "            print(f\"Index: {block.index}\")\n",
    "            print(f\"Timestamp: {block.timestamp}\")\n",
    "            print(f\"Data: {block.data}\")\n",
    "            print(f\"Previous Hash: {block.previous_hash}\")\n",
    "            print(f\"Hash: {block.hash}\")\n",
    "            print(f\"Difficulty: {block.difficulty}\")\n",
    "            print(f\"Token: {block.token}\\n\")\n",
    "\n",
    "    def get_blockchain(self):\n",
    "        return [block.to_dict() for block in self.blockchain.chain]\n",
    "   \n",
    "    def request_chain_from_peers(self):\n",
    "        message = json.dumps({'type': MessageType.REQUEST_CHAIN})\n",
    "        self.broadcast(message)\n",
    "    \n",
    "    def is_valid_chain(self, chain):\n",
    "        if chain[0].calculate_hash() != self.blockchain.chain[0].calculate_hash():\n",
    "            return False\n",
    "\n",
    "        for i in range(1, len(chain)):\n",
    "            if not self.blockchain.is_valid_new_block(chain[i], chain[i - 1]):\n",
    "                return False\n",
    "\n",
    "        return True\n",
    "    \n",
    "    def start_mining(self, data):\n",
    "        self.mining_active = True\n",
    "        threading.Thread(target=self.mine_continuously, args=(data,), daemon=True).start()\n",
    "\n",
    "    def stop_mining(self):\n",
    "        self.mining_active = False\n",
    "    \n",
    "    def mine_continuously(self, data):\n",
    "        while self.mining_active:\n",
    "            self.mine_new_block(data)\n",
    "            time.sleep(1)\n",
    "\n",
    "    def stop_server(self):\n",
    "        print(\"Stopping server...\")\n",
    "        self.active = False  \n",
    "\n",
    "        for client in self.peers:\n",
    "            try:\n",
    "                client.close()\n",
    "            except Exception as e:\n",
    "                print(f\"Error closing client connection: {e}\")\n",
    "\n",
    "        try:\n",
    "            self.server.close()\n",
    "        except Exception as e:\n",
    "            print(f\"Error closing server socket: {e}\")\n",
    "\n",
    "        print(\"Server stopped.\")\n",
    "\n",
    "    def connect_to_node(self, host, port):\n",
    "        client = socket.socket(socket.AF_INET, socket.SOCK_STREAM)\n",
    "        try:\n",
    "            client.connect((host, port))\n",
    "            self.peers.append(client)\n",
    "            threading.Thread(target=self.handle_client, args=(client,)).start()\n",
    "            self.request_chain_from_peers()\n",
    "            print(f\"Connected to node: {host}:{port}\")\n",
    "        except Exception as e:\n",
    "            print(f\"Error connecting to node: {host}:{port}, {e}\")\n",
    "\n",
    "    def is_peer_alive(self, peer):\n",
    "        try:\n",
    "            peer.send(b'')\n",
    "            return True\n",
    "        except socket.error:\n",
    "            return False\n",
    "\n",
    "    def broadcast(self, message):\n",
    "        for peer in self.peers[:]:  \n",
    "            if not self.is_peer_alive(peer):\n",
    "                self.peers.remove(peer)\n",
    "                continue\n",
    "            try:\n",
    "                peer.send(message.encode())\n",
    "            except socket.error as e:\n",
    "                print(f\"Error broadcasting to peer: {e}\")\n",
    "                self.peers.remove(peer)\n",
    "\n",
    "\n",
    "\n",
    "#node = P2PNode('localhost', 8000)\n",
    "#node.start_server()\n",
    "\n",
    "# For the second node\n",
    "#second_node = P2PNode('localhost', 8001)\n",
    "#second_node.start_server()\n",
    "\n",
    "# Connect the second node to the first\n",
    "#second_node.connect_to_node('localhost', 8000)\n",
    "\n"
   ]
  },
  {
   "cell_type": "code",
   "execution_count": 14,
   "metadata": {},
   "outputs": [],
   "source": [
    "node = P2PNode('localhost', 8000)\n",
    "node.start_server()\n",
    "\n",
    "# For the second node\n",
    "second_node = P2PNode('localhost', 8001)\n",
    "second_node.start_server()\n",
    "\n",
    "# Connect the second node to the first\n",
    "second_node.connect_to_node('localhost', 8000)"
   ]
  },
  {
   "cell_type": "code",
   "execution_count": 18,
   "metadata": {},
   "outputs": [
    {
     "name": "stdout",
     "output_type": "stream",
     "text": [
      "Stopping server...\n",
      "Error accepting new connection: [Errno 53] Software caused connection abort\n",
      "Server stopped.\n"
     ]
    },
    {
     "name": "stdout",
     "output_type": "stream",
     "text": [
      "Error handling client: [Errno 54] Connection reset by peer\n"
     ]
    }
   ],
   "source": [
    "node.stop_server()"
   ]
  },
  {
   "cell_type": "code",
   "execution_count": 9,
   "metadata": {},
   "outputs": [
    {
     "name": "stdout",
     "output_type": "stream",
     "text": [
      " * Serving Flask app '__main__'\n",
      " * Debug mode: off\n"
     ]
    },
    {
     "name": "stderr",
     "output_type": "stream",
     "text": [
      "\u001b[31m\u001b[1mWARNING: This is a development server. Do not use it in a production deployment. Use a production WSGI server instead.\u001b[0m\n",
      " * Running on http://164.8.160.177:5002\n",
      "\u001b[33mPress CTRL+C to quit\u001b[0m\n",
      "164.8.160.177 - - [22/Jan/2024 16:19:26] \"GET / HTTP/1.1\" 200 -\n",
      "164.8.160.177 - - [22/Jan/2024 16:19:26] \"\u001b[33mGET /favicon.ico HTTP/1.1\u001b[0m\" 404 -\n",
      "164.8.160.177 - - [22/Jan/2024 16:19:30] \"POST /create_node HTTP/1.1\" 200 -\n"
     ]
    },
    {
     "name": "stdout",
     "output_type": "stream",
     "text": [
      "Starting mining new block at index 0...\n",
      "New block mined: 068f55a6b6bfeeff4a46bfb42f33086dda6c468d92f3b472e7f7fdf748795535\n",
      "Mining completed in 0.00011801719665527344 seconds.\n"
     ]
    },
    {
     "name": "stderr",
     "output_type": "stream",
     "text": [
      "164.8.160.177 - - [22/Jan/2024 16:19:32] \"GET /node/8000 HTTP/1.1\" 200 -\n",
      "164.8.160.177 - - [22/Jan/2024 16:28:58] \"POST /display_blockchain HTTP/1.1\" 200 -\n"
     ]
    },
    {
     "name": "stdout",
     "output_type": "stream",
     "text": [
      "[{'index': 0, 'timestamp': 1705936770.613377, 'data': 'Genesis Block', 'previous_hash': '0', 'hash': '068f55a6b6bfeeff4a46bfb42f33086dda6c468d92f3b472e7f7fdf748795535', 'difficulty': 1, 'token': 18}]\n"
     ]
    },
    {
     "name": "stderr",
     "output_type": "stream",
     "text": [
      "164.8.160.177 - - [22/Jan/2024 16:28:59] \"POST /display_blockchain HTTP/1.1\" 200 -\n",
      "164.8.160.177 - - [22/Jan/2024 16:28:59] \"POST /display_blockchain HTTP/1.1\" 200 -\n"
     ]
    },
    {
     "name": "stdout",
     "output_type": "stream",
     "text": [
      "[{'index': 0, 'timestamp': 1705936770.613377, 'data': 'Genesis Block', 'previous_hash': '0', 'hash': '068f55a6b6bfeeff4a46bfb42f33086dda6c468d92f3b472e7f7fdf748795535', 'difficulty': 1, 'token': 18}]\n",
      "[{'index': 0, 'timestamp': 1705936770.613377, 'data': 'Genesis Block', 'previous_hash': '0', 'hash': '068f55a6b6bfeeff4a46bfb42f33086dda6c468d92f3b472e7f7fdf748795535', 'difficulty': 1, 'token': 18}]\n"
     ]
    },
    {
     "name": "stderr",
     "output_type": "stream",
     "text": [
      "164.8.160.177 - - [22/Jan/2024 16:29:56] \"POST /mine_block HTTP/1.1\" 200 -\n"
     ]
    },
    {
     "name": "stdout",
     "output_type": "stream",
     "text": [
      "Mining a new block...\n",
      "Starting mining new block at index 1...\n",
      "New block mined: 0f7cf7d8ad79ae9717e373652e560dce8f622168d161c25e9302259f56451030\n",
      "Mining completed in 2.09808349609375e-05 seconds.\n",
      "Block 1 has been mined and added to the blockchain.\n"
     ]
    },
    {
     "name": "stderr",
     "output_type": "stream",
     "text": [
      "164.8.160.177 - - [22/Jan/2024 16:30:02] \"POST /display_blockchain HTTP/1.1\" 200 -\n"
     ]
    },
    {
     "name": "stdout",
     "output_type": "stream",
     "text": [
      "[{'index': 0, 'timestamp': 1705936770.613377, 'data': 'Genesis Block', 'previous_hash': '0', 'hash': '068f55a6b6bfeeff4a46bfb42f33086dda6c468d92f3b472e7f7fdf748795535', 'difficulty': 1, 'token': 18}, {'index': 1, 'timestamp': 1705937396.31003, 'data': 'Number of people detected: 2, Location: Latitude: 46.55978, Longitude: 15.6382109', 'previous_hash': '068f55a6b6bfeeff4a46bfb42f33086dda6c468d92f3b472e7f7fdf748795535', 'hash': '0f7cf7d8ad79ae9717e373652e560dce8f622168d161c25e9302259f56451030', 'difficulty': 1, 'token': 14}]\n"
     ]
    },
    {
     "name": "stderr",
     "output_type": "stream",
     "text": [
      "164.8.160.177 - - [22/Jan/2024 16:30:38] \"POST /mine_block HTTP/1.1\" 200 -\n"
     ]
    },
    {
     "name": "stdout",
     "output_type": "stream",
     "text": [
      "Mining a new block...\n",
      "Starting mining new block at index 2...\n",
      "New block mined: 012a7bf5f45c659cb1ad970cd287d698f19390ae69629ebea9bcb00e6c824926\n",
      "Mining completed in 5.316734313964844e-05 seconds.\n",
      "Block 2 has been mined and added to the blockchain.\n"
     ]
    },
    {
     "name": "stderr",
     "output_type": "stream",
     "text": [
      "164.8.160.177 - - [22/Jan/2024 16:31:46] \"POST /display_blockchain HTTP/1.1\" 200 -\n"
     ]
    },
    {
     "name": "stdout",
     "output_type": "stream",
     "text": [
      "[{'index': 0, 'timestamp': 1705936770.613377, 'data': 'Genesis Block', 'previous_hash': '0', 'hash': '068f55a6b6bfeeff4a46bfb42f33086dda6c468d92f3b472e7f7fdf748795535', 'difficulty': 1, 'token': 18}, {'index': 1, 'timestamp': 1705937396.31003, 'data': 'Number of people detected: 2, Location: Latitude: 46.55978, Longitude: 15.6382109', 'previous_hash': '068f55a6b6bfeeff4a46bfb42f33086dda6c468d92f3b472e7f7fdf748795535', 'hash': '0f7cf7d8ad79ae9717e373652e560dce8f622168d161c25e9302259f56451030', 'difficulty': 1, 'token': 14}, {'index': 2, 'timestamp': 1705937438.023353, 'data': 'Number of people detected: 1, Location: Latitude: 46.55978, Longitude: 15.6382109', 'previous_hash': '0f7cf7d8ad79ae9717e373652e560dce8f622168d161c25e9302259f56451030', 'hash': '012a7bf5f45c659cb1ad970cd287d698f19390ae69629ebea9bcb00e6c824926', 'difficulty': 1, 'token': 36}]\n"
     ]
    },
    {
     "name": "stderr",
     "output_type": "stream",
     "text": [
      "164.8.160.177 - - [22/Jan/2024 16:31:51] \"POST /stop_node HTTP/1.1\" 200 -\n"
     ]
    },
    {
     "name": "stdout",
     "output_type": "stream",
     "text": [
      "Stopping server...\n",
      "Error accepting new connection: [Errno 53] Software caused connection abort\n",
      "Server stopped.\n"
     ]
    },
    {
     "name": "stderr",
     "output_type": "stream",
     "text": [
      "164.8.160.177 - - [22/Jan/2024 16:31:53] \"GET / HTTP/1.1\" 200 -\n",
      "164.8.160.177 - - [22/Jan/2024 16:32:03] \"POST /create_node HTTP/1.1\" 200 -\n"
     ]
    },
    {
     "name": "stdout",
     "output_type": "stream",
     "text": [
      "Starting mining new block at index 0...\n",
      "New block mined: 0098f0158c6115ca28be6bbdfaf4dfb1b66df4f883c8eebb43cca30900687563\n",
      "Mining completed in 0.00010085105895996094 seconds.\n"
     ]
    },
    {
     "name": "stderr",
     "output_type": "stream",
     "text": [
      "164.8.160.177 - - [22/Jan/2024 16:32:07] \"GET /node/8000 HTTP/1.1\" 200 -\n",
      "164.8.160.177 - - [22/Jan/2024 16:37:21] \"POST /display_blockchain HTTP/1.1\" 200 -\n"
     ]
    },
    {
     "name": "stdout",
     "output_type": "stream",
     "text": [
      "[{'index': 0, 'timestamp': 1705937523.810218, 'data': 'Genesis Block', 'previous_hash': '0', 'hash': '0098f0158c6115ca28be6bbdfaf4dfb1b66df4f883c8eebb43cca30900687563', 'difficulty': 1, 'token': 28}]\n"
     ]
    },
    {
     "name": "stderr",
     "output_type": "stream",
     "text": [
      "164.8.160.177 - - [22/Jan/2024 16:37:21] \"POST /display_blockchain HTTP/1.1\" 200 -\n"
     ]
    },
    {
     "name": "stdout",
     "output_type": "stream",
     "text": [
      "[{'index': 0, 'timestamp': 1705937523.810218, 'data': 'Genesis Block', 'previous_hash': '0', 'hash': '0098f0158c6115ca28be6bbdfaf4dfb1b66df4f883c8eebb43cca30900687563', 'difficulty': 1, 'token': 28}]\n"
     ]
    },
    {
     "name": "stderr",
     "output_type": "stream",
     "text": [
      "164.8.160.177 - - [22/Jan/2024 16:57:29] \"POST /mine_block HTTP/1.1\" 200 -\n"
     ]
    },
    {
     "name": "stdout",
     "output_type": "stream",
     "text": [
      "Mining a new block...\n",
      "Starting mining new block at index 1...\n",
      "New block mined: 0ae3518d3fea8f516e7beec29f53c537363fe83459dfd6fee1cce2c77ded1de3\n",
      "Mining completed in 9.5367431640625e-07 seconds.\n",
      "Block 1 has been mined and added to the blockchain.\n"
     ]
    },
    {
     "name": "stderr",
     "output_type": "stream",
     "text": [
      "164.8.160.177 - - [22/Jan/2024 16:57:43] \"POST /display_blockchain HTTP/1.1\" 200 -\n"
     ]
    },
    {
     "name": "stdout",
     "output_type": "stream",
     "text": [
      "[{'index': 0, 'timestamp': 1705937523.810218, 'data': 'Genesis Block', 'previous_hash': '0', 'hash': '0098f0158c6115ca28be6bbdfaf4dfb1b66df4f883c8eebb43cca30900687563', 'difficulty': 1, 'token': 28}, {'index': 1, 'timestamp': 1705939049.978529, 'data': 'Number of people detected: 5, Location: Latitude: 46.55978, Longitude: 15.6382109', 'previous_hash': '0098f0158c6115ca28be6bbdfaf4dfb1b66df4f883c8eebb43cca30900687563', 'hash': '0ae3518d3fea8f516e7beec29f53c537363fe83459dfd6fee1cce2c77ded1de3', 'difficulty': 1, 'token': 0}]\n"
     ]
    },
    {
     "name": "stderr",
     "output_type": "stream",
     "text": [
      "164.8.160.177 - - [22/Jan/2024 17:02:52] \"POST /display_blockchain HTTP/1.1\" 200 -\n"
     ]
    },
    {
     "name": "stdout",
     "output_type": "stream",
     "text": [
      "[{'index': 0, 'timestamp': 1705937523.810218, 'data': 'Genesis Block', 'previous_hash': '0', 'hash': '0098f0158c6115ca28be6bbdfaf4dfb1b66df4f883c8eebb43cca30900687563', 'difficulty': 1, 'token': 28}, {'index': 1, 'timestamp': 1705939049.978529, 'data': 'Number of people detected: 5, Location: Latitude: 46.55978, Longitude: 15.6382109', 'previous_hash': '0098f0158c6115ca28be6bbdfaf4dfb1b66df4f883c8eebb43cca30900687563', 'hash': '0ae3518d3fea8f516e7beec29f53c537363fe83459dfd6fee1cce2c77ded1de3', 'difficulty': 1, 'token': 0}]\n"
     ]
    },
    {
     "name": "stderr",
     "output_type": "stream",
     "text": [
      "164.8.160.177 - - [22/Jan/2024 17:03:03] \"POST /display_blockchain HTTP/1.1\" 200 -\n"
     ]
    },
    {
     "name": "stdout",
     "output_type": "stream",
     "text": [
      "[{'index': 0, 'timestamp': 1705937523.810218, 'data': 'Genesis Block', 'previous_hash': '0', 'hash': '0098f0158c6115ca28be6bbdfaf4dfb1b66df4f883c8eebb43cca30900687563', 'difficulty': 1, 'token': 28}, {'index': 1, 'timestamp': 1705939049.978529, 'data': 'Number of people detected: 5, Location: Latitude: 46.55978, Longitude: 15.6382109', 'previous_hash': '0098f0158c6115ca28be6bbdfaf4dfb1b66df4f883c8eebb43cca30900687563', 'hash': '0ae3518d3fea8f516e7beec29f53c537363fe83459dfd6fee1cce2c77ded1de3', 'difficulty': 1, 'token': 0}]\n"
     ]
    },
    {
     "name": "stderr",
     "output_type": "stream",
     "text": [
      "164.8.160.177 - - [22/Jan/2024 17:03:25] \"POST /display_blockchain HTTP/1.1\" 200 -\n"
     ]
    },
    {
     "name": "stdout",
     "output_type": "stream",
     "text": [
      "[{'index': 0, 'timestamp': 1705937523.810218, 'data': 'Genesis Block', 'previous_hash': '0', 'hash': '0098f0158c6115ca28be6bbdfaf4dfb1b66df4f883c8eebb43cca30900687563', 'difficulty': 1, 'token': 28}, {'index': 1, 'timestamp': 1705939049.978529, 'data': 'Number of people detected: 5, Location: Latitude: 46.55978, Longitude: 15.6382109', 'previous_hash': '0098f0158c6115ca28be6bbdfaf4dfb1b66df4f883c8eebb43cca30900687563', 'hash': '0ae3518d3fea8f516e7beec29f53c537363fe83459dfd6fee1cce2c77ded1de3', 'difficulty': 1, 'token': 0}]\n"
     ]
    },
    {
     "name": "stderr",
     "output_type": "stream",
     "text": [
      "164.8.160.177 - - [22/Jan/2024 17:03:27] \"POST /display_blockchain HTTP/1.1\" 200 -\n"
     ]
    },
    {
     "name": "stdout",
     "output_type": "stream",
     "text": [
      "[{'index': 0, 'timestamp': 1705937523.810218, 'data': 'Genesis Block', 'previous_hash': '0', 'hash': '0098f0158c6115ca28be6bbdfaf4dfb1b66df4f883c8eebb43cca30900687563', 'difficulty': 1, 'token': 28}, {'index': 1, 'timestamp': 1705939049.978529, 'data': 'Number of people detected: 5, Location: Latitude: 46.55978, Longitude: 15.6382109', 'previous_hash': '0098f0158c6115ca28be6bbdfaf4dfb1b66df4f883c8eebb43cca30900687563', 'hash': '0ae3518d3fea8f516e7beec29f53c537363fe83459dfd6fee1cce2c77ded1de3', 'difficulty': 1, 'token': 0}]\n"
     ]
    },
    {
     "name": "stderr",
     "output_type": "stream",
     "text": [
      "164.8.160.177 - - [22/Jan/2024 17:06:16] \"POST /display_blockchain HTTP/1.1\" 200 -\n"
     ]
    },
    {
     "name": "stdout",
     "output_type": "stream",
     "text": [
      "[{'index': 0, 'timestamp': 1705937523.810218, 'data': 'Genesis Block', 'previous_hash': '0', 'hash': '0098f0158c6115ca28be6bbdfaf4dfb1b66df4f883c8eebb43cca30900687563', 'difficulty': 1, 'token': 28}, {'index': 1, 'timestamp': 1705939049.978529, 'data': 'Number of people detected: 5, Location: Latitude: 46.55978, Longitude: 15.6382109', 'previous_hash': '0098f0158c6115ca28be6bbdfaf4dfb1b66df4f883c8eebb43cca30900687563', 'hash': '0ae3518d3fea8f516e7beec29f53c537363fe83459dfd6fee1cce2c77ded1de3', 'difficulty': 1, 'token': 0}]\n"
     ]
    },
    {
     "name": "stderr",
     "output_type": "stream",
     "text": [
      "164.8.160.177 - - [22/Jan/2024 17:07:01] \"POST /display_blockchain HTTP/1.1\" 200 -\n"
     ]
    },
    {
     "name": "stdout",
     "output_type": "stream",
     "text": [
      "[{'index': 0, 'timestamp': 1705937523.810218, 'data': 'Genesis Block', 'previous_hash': '0', 'hash': '0098f0158c6115ca28be6bbdfaf4dfb1b66df4f883c8eebb43cca30900687563', 'difficulty': 1, 'token': 28}, {'index': 1, 'timestamp': 1705939049.978529, 'data': 'Number of people detected: 5, Location: Latitude: 46.55978, Longitude: 15.6382109', 'previous_hash': '0098f0158c6115ca28be6bbdfaf4dfb1b66df4f883c8eebb43cca30900687563', 'hash': '0ae3518d3fea8f516e7beec29f53c537363fe83459dfd6fee1cce2c77ded1de3', 'difficulty': 1, 'token': 0}]\n"
     ]
    },
    {
     "name": "stderr",
     "output_type": "stream",
     "text": [
      "164.8.160.177 - - [22/Jan/2024 17:09:39] \"POST /stop_node HTTP/1.1\" 200 -\n"
     ]
    },
    {
     "name": "stdout",
     "output_type": "stream",
     "text": [
      "Stopping server...\n",
      "Error accepting new connection: [Errno 53] Software caused connection abort\n",
      "Server stopped.\n"
     ]
    },
    {
     "name": "stderr",
     "output_type": "stream",
     "text": [
      "164.8.160.177 - - [22/Jan/2024 17:09:41] \"GET / HTTP/1.1\" 200 -\n"
     ]
    }
   ],
   "source": [
    "from flask import Flask, render_template, request, jsonify, redirect, url_for\n",
    "import threading\n",
    "\n",
    "app = Flask(__name__)\n",
    "nodes = {}  \n",
    "@app.route('/')\n",
    "def home():\n",
    "    return render_template('index.html')\n",
    "\n",
    "@app.route('/create_node', methods=['POST'])\n",
    "def create_node():\n",
    "    port = int(request.json.get('port'))\n",
    "    if port in nodes:\n",
    "        return jsonify({'message': 'Node already exists on this port', 'success': False})\n",
    "    \n",
    "    try:\n",
    "        node = P2PNode('164.8.160.177', port)\n",
    "        threading.Thread(target=node.start_server, daemon=True).start()\n",
    "        nodes[port] = node\n",
    "        return jsonify({'message': f'Node created on port {port}', 'success': True})\n",
    "    except Exception as e:\n",
    "        return jsonify({'message': str(e), 'success': False})\n",
    "\n",
    "@app.route('/node/<int:port>')\n",
    "def node_page(port):\n",
    "    if port not in nodes:\n",
    "        return redirect(url_for('home'))\n",
    "    return render_template('node.html', port=port)\n",
    "\n",
    "@app.route('/display_blockchain', methods=['POST'])\n",
    "def display_blockchain():\n",
    "    port = int(request.json.get('port'))\n",
    "    if port in nodes:\n",
    "        blockchain_info = nodes[port].get_blockchain()\n",
    "        print(blockchain_info)\n",
    "        return jsonify({'blockchain': blockchain_info, 'success': True})\n",
    "    return jsonify({'message': 'Node not found', 'success': False})\n",
    "\n",
    "@app.route('/stop_node', methods=['POST'])\n",
    "def stop_node():\n",
    "    port = int(request.json.get('port'))\n",
    "    if port in nodes:\n",
    "        try:\n",
    "            nodes[port].stop_server()  \n",
    "            del nodes[port]  \n",
    "            return jsonify({'message': 'Node stopped successfully', 'success': True})\n",
    "        except Exception as e:\n",
    "            return jsonify({'message': str(e), 'success': False})\n",
    "    else:\n",
    "        return jsonify({'message': 'Node not found', 'success': False})\n",
    "\n",
    "\n",
    "@app.route('/connect_node', methods=['POST'])\n",
    "def connect_node():\n",
    "    data = request.json\n",
    "    current_node_port_str = data.get('host') \n",
    "    target_port_str = data.get('port') \n",
    "\n",
    "    if current_node_port_str is None or target_port_str is None:\n",
    "        return jsonify({'message': 'Current node port or target port not provided', 'success': False})\n",
    "\n",
    "    if not all([current_node_port_str.isdigit(), target_port_str.isdigit()]):\n",
    "        return jsonify({'message': 'Ports must be numbers', 'success': False})\n",
    "\n",
    "    current_node_port = int(current_node_port_str)\n",
    "    target_port = int(target_port_str)\n",
    "\n",
    "    if current_node_port not in nodes:\n",
    "        return jsonify({'message': 'Current node not found', 'success': False})\n",
    "\n",
    "    try:\n",
    "        nodes[current_node_port].connect_to_node('164.8.160.177', target_port)\n",
    "        return jsonify({'message': 'Connected to node successfully', 'success': True})\n",
    "    except Exception as e:\n",
    "        return jsonify({'message': f'Error connecting to node: {e}', 'success': False})\n",
    "\n",
    "\n",
    "@app.route('/get_connected_peers', methods=['GET'])\n",
    "def get_connected_peers():\n",
    "    port = int(request.args.get('port'))\n",
    "    if port in nodes:\n",
    "        try:\n",
    "            peers = nodes[port].display_connected_peers()\n",
    "            return jsonify({'peers': peers, 'success': True})\n",
    "        except Exception as e:\n",
    "            return jsonify({'message': str(e), 'success': False})\n",
    "    else:\n",
    "        return jsonify({'message': 'Node not found', 'success': False})\n",
    "\n",
    "\n",
    "@app.route('/mine_block', methods=['POST'])\n",
    "def mine_block():\n",
    "    data = request.json\n",
    "    port = int(data.get('port'))\n",
    "    block_data = data.get('data')\n",
    "\n",
    "    if port in nodes:\n",
    "        try:\n",
    "            nodes[port].mine_single_block(block_data)\n",
    "            return jsonify({'message': 'New block mined successfully', 'success': True})\n",
    "        except Exception as e:\n",
    "            return jsonify({'message': str(e), 'success': False})\n",
    "    else:\n",
    "        return jsonify({'message': 'Node not found', 'success': False})\n",
    "\n",
    "\n",
    "@app.route('/start_mining', methods=['POST'])\n",
    "def start_mining():\n",
    "    data = request.json\n",
    "    port = int(data.get('port'))\n",
    "    block_data = data.get('data')\n",
    "    if port in nodes:\n",
    "        nodes[port].start_mining(block_data)\n",
    "        return jsonify({'message': 'Mining started', 'success': True})\n",
    "    return jsonify({'message': 'Node not found', 'success': False})\n",
    "\n",
    "@app.route('/stop_mining', methods=['POST'])\n",
    "def stop_mining():\n",
    "    data = request.json\n",
    "    port = int(data.get('port'))\n",
    "    if port in nodes:\n",
    "        nodes[port].stop_mining()\n",
    "        return jsonify({'message': 'Mining stopped', 'success': True})\n",
    "    return jsonify({'message': 'Node not found', 'success': False})\n",
    "\n",
    "\n",
    "if __name__ == '__main__':\n",
    "    app.run(host='164.8.160.177', port=5002)\n",
    "\n"
   ]
  }
 ],
 "metadata": {
  "kernelspec": {
   "display_name": "base",
   "language": "python",
   "name": "python3"
  },
  "language_info": {
   "codemirror_mode": {
    "name": "ipython",
    "version": 3
   },
   "file_extension": ".py",
   "mimetype": "text/x-python",
   "name": "python",
   "nbconvert_exporter": "python",
   "pygments_lexer": "ipython3",
   "version": "3.9.6"
  }
 },
 "nbformat": 4,
 "nbformat_minor": 2
}
